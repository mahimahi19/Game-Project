{
 "cells": [
  {
   "cell_type": "code",
   "execution_count": 1,
   "id": "b8fc7f16-746f-442d-8228-baae29074b38",
   "metadata": {},
   "outputs": [
    {
     "name": "stdout",
     "output_type": "stream",
     "text": [
      "\n",
      "Game Inventory System\n",
      "1. Add Item\n",
      "2. Display Items\n",
      "3. Update Item Quantity\n",
      "4. Delete Item\n",
      "5. Count Items\n",
      "6. Exit\n"
     ]
    },
    {
     "name": "stdin",
     "output_type": "stream",
     "text": [
      "Choose an option:  1\n",
      "Enter item name:  car\n",
      "Enter quantity:  4\n",
      "Enter description:  we can sit and travel very comfortably\n"
     ]
    },
    {
     "name": "stdout",
     "output_type": "stream",
     "text": [
      "Error: 1045 (28000): Access denied for user 'root'@'localhost' (using password: NO)\n",
      "\n",
      "Game Inventory System\n",
      "1. Add Item\n",
      "2. Display Items\n",
      "3. Update Item Quantity\n",
      "4. Delete Item\n",
      "5. Count Items\n",
      "6. Exit\n"
     ]
    },
    {
     "name": "stdin",
     "output_type": "stream",
     "text": [
      "Choose an option:  2\n"
     ]
    },
    {
     "name": "stdout",
     "output_type": "stream",
     "text": [
      "Error: 1045 (28000): Access denied for user 'root'@'localhost' (using password: NO)\n",
      "\n",
      "Game Inventory System\n",
      "1. Add Item\n",
      "2. Display Items\n",
      "3. Update Item Quantity\n",
      "4. Delete Item\n",
      "5. Count Items\n",
      "6. Exit\n"
     ]
    },
    {
     "name": "stdin",
     "output_type": "stream",
     "text": [
      "Choose an option:  3\n",
      "Enter item ID to update:  12345\n",
      "Enter new quantity:  5\n"
     ]
    },
    {
     "name": "stdout",
     "output_type": "stream",
     "text": [
      "Error: 1045 (28000): Access denied for user 'root'@'localhost' (using password: NO)\n",
      "\n",
      "Game Inventory System\n",
      "1. Add Item\n",
      "2. Display Items\n",
      "3. Update Item Quantity\n",
      "4. Delete Item\n",
      "5. Count Items\n",
      "6. Exit\n"
     ]
    },
    {
     "name": "stdin",
     "output_type": "stream",
     "text": [
      "Choose an option:  5\n"
     ]
    },
    {
     "name": "stdout",
     "output_type": "stream",
     "text": [
      "Error: 1045 (28000): Access denied for user 'root'@'localhost' (using password: NO)\n",
      "\n",
      "Game Inventory System\n",
      "1. Add Item\n",
      "2. Display Items\n",
      "3. Update Item Quantity\n",
      "4. Delete Item\n",
      "5. Count Items\n",
      "6. Exit\n"
     ]
    },
    {
     "name": "stdin",
     "output_type": "stream",
     "text": [
      "Choose an option:  6\n"
     ]
    },
    {
     "name": "stdout",
     "output_type": "stream",
     "text": [
      "Exiting the system.\n"
     ]
    }
   ],
   "source": [
    "##### import mysql.connector\n",
    "\n",
    "def connect_to_db():\n",
    "    try:\n",
    "        conn = mysql.connector.connect(\n",
    "            host=\"localhost\",\n",
    "            user=\"root\", \n",
    "            password=\"\",  \n",
    "            database=\"game_inventory\"\n",
    "        )\n",
    "        return conn\n",
    "    except mysql.connector.Error as err:\n",
    "        print(f\"Error: {err}\")\n",
    "        return None\n",
    "\n",
    "\n",
    "def add_item():\n",
    "    item_name = input(\"Enter item name: \")\n",
    "    quantity = int(input(\"Enter quantity: \"))\n",
    "    description = input(\"Enter description: \")\n",
    "\n",
    "    conn = connect_to_db()\n",
    "    if conn:\n",
    "        cursor = conn.cursor()\n",
    "        query = \"INSERT INTO inventory (item_name, quantity, description) VALUES (%s, %s, %s)\"\n",
    "        cursor.execute(query, (item_name, quantity, description))\n",
    "        conn.commit()\n",
    "        print(f\"Item '{item_name}' added to inventory.\")\n",
    "        cursor.close()\n",
    "        conn.close()\n",
    "\n",
    "\n",
    "def display_items():\n",
    "    conn = connect_to_db()\n",
    "    if conn:\n",
    "        cursor = conn.cursor()\n",
    "        cursor.execute(\"SELECT * FROM inventory\")\n",
    "        items = cursor.fetchall()\n",
    "        if items:\n",
    "            for item in items:\n",
    "                print(f\"ID: {item[0]}, Name: {item[1]}, Quantity: {item[2]}, Description: {item[3]}\")\n",
    "        else:\n",
    "            print(\"No items in inventory.\")\n",
    "        cursor.close()\n",
    "        conn.close()\n",
    "\n",
    "\n",
    "def update_item():\n",
    "    item_id = int(input(\"Enter item ID to update: \"))\n",
    "    new_quantity = int(input(\"Enter new quantity: \"))\n",
    "\n",
    "    conn = connect_to_db()\n",
    "    if conn:\n",
    "        cursor = conn.cursor()\n",
    "        query = \"UPDATE inventory SET quantity = %s WHERE id = %s\"\n",
    "        cursor.execute(query, (new_quantity, item_id))\n",
    "        conn.commit()\n",
    "        print(f\"Item ID {item_id} quantity updated to {new_quantity}.\")\n",
    "        cursor.close()\n",
    "        conn.close()\n",
    "\n",
    "\n",
    "def delete_item():\n",
    "    item_id = int(input(\"Enter item ID to delete: \"))\n",
    "\n",
    "    conn = connect_to_db()\n",
    "    if conn:\n",
    "        cursor = conn.cursor()\n",
    "        query = \"DELETE FROM inventory WHERE id = %s\"\n",
    "        cursor.execute(query, (item_id,))\n",
    "        conn.commit()\n",
    "        print(f\"Item ID {item_id} deleted from inventory.\")\n",
    "        cursor.close()\n",
    "        conn.close()\n",
    "\n",
    "\n",
    "def count_items():\n",
    "    conn = connect_to_db()\n",
    "    if conn:\n",
    "        cursor = conn.cursor()\n",
    "        cursor.execute(\"SELECT COUNT(*) FROM inventory\")\n",
    "        count = cursor.fetchone()[0]\n",
    "        print(f\"Total number of items in inventory: {count}\")\n",
    "        cursor.close()\n",
    "        conn.close()\n",
    "\n",
    "\n",
    "def main():\n",
    "    while True:\n",
    "        print(\"\\nGame Inventory System\")\n",
    "        print(\"1. Add Item\")\n",
    "        print(\"2. Display Items\")\n",
    "        print(\"3. Update Item Quantity\")\n",
    "        print(\"4. Delete Item\")\n",
    "        print(\"5. Count Items\")\n",
    "        print(\"6. Exit\")\n",
    "\n",
    "        choice = input(\"Choose an option: \")\n",
    "\n",
    "        if choice == \"1\":\n",
    "            add_item()\n",
    "        elif choice == \"2\":\n",
    "            display_items()\n",
    "        elif choice == \"3\":\n",
    "            update_item()\n",
    "        elif choice == \"4\":\n",
    "            delete_item()\n",
    "        elif choice == \"5\":\n",
    "            count_items()\n",
    "        elif choice == \"6\":\n",
    "            print(\"Exiting the system.\")\n",
    "            break\n",
    "        else:\n",
    "            print(\"Invalid choice. Please try again.\")\n",
    "\n",
    "if __name__ == \"__main__\":\n",
    "    main()\n"
   ]
  },
  {
   "cell_type": "code",
   "execution_count": null,
   "id": "9ee510a7-f48d-4a62-868f-17b389fd2766",
   "metadata": {},
   "outputs": [],
   "source": []
  }
 ],
 "metadata": {
  "kernelspec": {
   "display_name": "Python [conda env:base] *",
   "language": "python",
   "name": "conda-base-py"
  },
  "language_info": {
   "codemirror_mode": {
    "name": "ipython",
    "version": 3
   },
   "file_extension": ".py",
   "mimetype": "text/x-python",
   "name": "python",
   "nbconvert_exporter": "python",
   "pygments_lexer": "ipython3",
   "version": "3.12.7"
  }
 },
 "nbformat": 4,
 "nbformat_minor": 5
}
