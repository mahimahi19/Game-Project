{
 "cells": [
  {
   "cell_type": "markdown",
   "id": "5aac165b-bf79-4879-8b24-e5a28d18c951",
   "metadata": {},
   "source": [
    "# Drug Recommendation System Using AI #"
   ]
  },
  {
   "cell_type": "markdown",
   "id": "3c76b311-5051-4845-aceb-39099f54796c",
   "metadata": {},
   "source": [
    "#### Introduction ####\n",
    "The goal of this script is to train a deep learning model that predicts the most suitable drug for \n",
    "a given medical condition based on user reviews. It leverages natural language processing (NLP) to \n",
    "understand textual reviews and conditions, encoding them into numerical representations for deep learning.\n"
   ]
  },
  {
   "cell_type": "markdown",
   "id": "5ed780d7-333c-4b80-bbde-a9bcfd58855b",
   "metadata": {},
   "source": [
    "#### Problem Statement ####\n",
    "Finding the right medicine for a health condition can be difficult. \n",
    "This AI-powered system helps suggest suitable drugs based on patient \n",
    "reviews and medical conditions, using natural language processing \n",
    "and machine learning to improve healthcare recommendations"
   ]
  },
  {
   "cell_type": "markdown",
   "id": "c80ddef4-5dbb-4071-807e-8f6d0953247b",
   "metadata": {},
   "source": [
    "### Load Required Libraries ###"
   ]
  },
  {
   "cell_type": "code",
   "execution_count": 2,
   "id": "3131a3f8-a4b2-4f6d-9040-8c93d710609a",
   "metadata": {},
   "outputs": [],
   "source": [
    "import pandas as pd\n",
    "import numpy as np\n",
    "import matplotlib.pyplot as plt\n",
    "import seaborn as sns\n",
    "import tensorflow as tf\n",
    "from tensorflow.keras.preprocessing.text import Tokenizer\n",
    "from tensorflow.keras.preprocessing.sequence import pad_sequences\n",
    "from tensorflow.keras.models import Sequential\n",
    "from tensorflow.keras.layers import Embedding, LSTM, Dense, Dropout\n",
    "from sklearn.preprocessing import LabelEncoder\n",
    "from sklearn.model_selection import train_test_split"
   ]
  },
  {
   "cell_type": "markdown",
   "id": "2c864df1-7c3b-4d2d-85e6-10067e344146",
   "metadata": {},
   "source": [
    "### Load the Dataset ###"
   ]
  },
  {
   "cell_type": "code",
   "execution_count": 3,
   "id": "4a7b80b5-6b7e-4843-b9c4-6812a293504b",
   "metadata": {},
   "outputs": [
    {
     "name": "stdout",
     "output_type": "stream",
     "text": [
      "   uniqueID         drugName                     condition  \\\n",
      "0    163740      Mirtazapine                    Depression   \n",
      "1    206473       Mesalamine  Crohn's Disease, Maintenance   \n",
      "2    159672          Bactrim       Urinary Tract Infection   \n",
      "3     39293         Contrave                   Weight Loss   \n",
      "4     97768  Cyclafem 1 / 35                 Birth Control   \n",
      "\n",
      "                                              review  rating       date  \\\n",
      "0  \"I&#039;ve tried a few antidepressants over th...      10  28-Feb-12   \n",
      "1  \"My son has Crohn&#039;s disease and has done ...       8  17-May-09   \n",
      "2                      \"Quick reduction of symptoms\"       9  29-Sep-17   \n",
      "3  \"Contrave combines drugs that were used for al...       9   5-Mar-17   \n",
      "4  \"I have been on this birth control for one cyc...       9  22-Oct-15   \n",
      "\n",
      "   usefulCount  \n",
      "0           22  \n",
      "1           17  \n",
      "2            3  \n",
      "3           35  \n",
      "4            4  \n"
     ]
    }
   ],
   "source": [
    "data = pd.read_csv(r\"C:\\Users\\NSTIW\\Desktop\\maheshwari.AI\\Module6\\drugsComTest_raw.csv\")\n",
    "print(data.head())"
   ]
  },
  {
   "cell_type": "markdown",
   "id": "47fab83f-a606-4be9-a98d-559937855edd",
   "metadata": {},
   "source": [
    "### Explore the Data ###"
   ]
  },
  {
   "cell_type": "code",
   "execution_count": 4,
   "id": "52ff7e31-615a-4ee4-b7d0-c7dea30e8b67",
   "metadata": {},
   "outputs": [
    {
     "name": "stdout",
     "output_type": "stream",
     "text": [
      "<class 'pandas.core.frame.DataFrame'>\n",
      "RangeIndex: 53766 entries, 0 to 53765\n",
      "Data columns (total 7 columns):\n",
      " #   Column       Non-Null Count  Dtype \n",
      "---  ------       --------------  ----- \n",
      " 0   uniqueID     53766 non-null  int64 \n",
      " 1   drugName     53766 non-null  object\n",
      " 2   condition    53471 non-null  object\n",
      " 3   review       53766 non-null  object\n",
      " 4   rating       53766 non-null  int64 \n",
      " 5   date         53766 non-null  object\n",
      " 6   usefulCount  53766 non-null  int64 \n",
      "dtypes: int64(3), object(4)\n",
      "memory usage: 2.9+ MB\n",
      "None\n",
      "condition\n",
      "Birth Control    9648\n",
      "Depression       3095\n",
      "Pain             2100\n",
      "Anxiety          1908\n",
      "Acne             1847\n",
      "Name: count, dtype: int64\n",
      "uniqueID         0\n",
      "drugName         0\n",
      "condition      295\n",
      "review           0\n",
      "rating           0\n",
      "date             0\n",
      "usefulCount      0\n",
      "dtype: int64\n"
     ]
    }
   ],
   "source": [
    "print(data.info())\n",
    "print(data['condition'].value_counts().head())\n",
    "print(data.isnull().sum())"
   ]
  },
  {
   "cell_type": "markdown",
   "id": "c58e59c4-68fb-4b08-bb1e-dfa8d4d531a3",
   "metadata": {},
   "source": [
    "### Data Preprocessing ###"
   ]
  },
  {
   "cell_type": "code",
   "execution_count": 5,
   "id": "dcde6dd3-7f79-49e1-8f6c-3dd92405d1b6",
   "metadata": {},
   "outputs": [],
   "source": [
    "data = data.dropna(subset=['condition', 'review'])"
   ]
  },
  {
   "cell_type": "code",
   "execution_count": 6,
   "id": "6bdad0f7-1770-44a4-be0e-dfe88c305d59",
   "metadata": {},
   "outputs": [],
   "source": [
    "le = LabelEncoder()\n",
    "data['drug_encoded'] = le.fit_transform(data['drugName'])"
   ]
  },
  {
   "cell_type": "code",
   "execution_count": null,
   "id": "721fca3e-d349-4cf1-8ca7-d37636ed4946",
   "metadata": {},
   "outputs": [],
   "source": [
    "5. Text Tokenization and Padding"
   ]
  },
  {
   "cell_type": "code",
   "execution_count": 7,
   "id": "0e5bf001-6f85-46d0-a29f-2ae9b5853612",
   "metadata": {},
   "outputs": [],
   "source": [
    "# Combine condition and review as input text\n",
    "data['input_text'] = data['condition'] + \" \" + data['review']\n",
    "\n",
    "# Tokenize text\n",
    "tokenizer = Tokenizer(num_words=10000, oov_token='<OOV>')\n",
    "tokenizer.fit_on_texts(data['input_text'])\n",
    "\n",
    "sequences = tokenizer.texts_to_sequences(data['input_text'])\n",
    "padded = pad_sequences(sequences, maxlen=200, padding='post')"
   ]
  },
  {
   "cell_type": "markdown",
   "id": "31f6c5c2-185b-44d5-8a3d-f31b334186b4",
   "metadata": {},
   "source": [
    "### Split Data for Training ###"
   ]
  },
  {
   "cell_type": "code",
   "execution_count": 8,
   "id": "6d6b4990-aa9f-4049-9688-1bc73c335c05",
   "metadata": {},
   "outputs": [],
   "source": [
    "X = padded\n",
    "y = data['drug_encoded']\n",
    "\n",
    "X_train, X_test, y_train, y_test = train_test_split(X, y, test_size=0.2, random_state=42)"
   ]
  },
  {
   "cell_type": "markdown",
   "id": "c5fbe7e1-66ae-41a7-84ca-16d10d58f73c",
   "metadata": {},
   "source": [
    "### Build Deep Learning Model ###"
   ]
  },
  {
   "cell_type": "code",
   "execution_count": 9,
   "id": "601dac31-566f-41ae-a0c9-19c993eaf224",
   "metadata": {},
   "outputs": [
    {
     "name": "stderr",
     "output_type": "stream",
     "text": [
      "C:\\Users\\NSTIW\\anaconda3\\Lib\\site-packages\\keras\\src\\layers\\core\\embedding.py:97: UserWarning: Argument `input_length` is deprecated. Just remove it.\n",
      "  warnings.warn(\n"
     ]
    },
    {
     "data": {
      "text/html": [
       "<pre style=\"white-space:pre;overflow-x:auto;line-height:normal;font-family:Menlo,'DejaVu Sans Mono',consolas,'Courier New',monospace\"><span style=\"font-weight: bold\">Model: \"sequential\"</span>\n",
       "</pre>\n"
      ],
      "text/plain": [
       "\u001b[1mModel: \"sequential\"\u001b[0m\n"
      ]
     },
     "metadata": {},
     "output_type": "display_data"
    },
    {
     "data": {
      "text/html": [
       "<pre style=\"white-space:pre;overflow-x:auto;line-height:normal;font-family:Menlo,'DejaVu Sans Mono',consolas,'Courier New',monospace\">┏━━━━━━━━━━━━━━━━━━━━━━━━━━━━━━━━━━━━━━┳━━━━━━━━━━━━━━━━━━━━━━━━━━━━━┳━━━━━━━━━━━━━━━━━┓\n",
       "┃<span style=\"font-weight: bold\"> Layer (type)                         </span>┃<span style=\"font-weight: bold\"> Output Shape                </span>┃<span style=\"font-weight: bold\">         Param # </span>┃\n",
       "┡━━━━━━━━━━━━━━━━━━━━━━━━━━━━━━━━━━━━━━╇━━━━━━━━━━━━━━━━━━━━━━━━━━━━━╇━━━━━━━━━━━━━━━━━┩\n",
       "│ embedding (<span style=\"color: #0087ff; text-decoration-color: #0087ff\">Embedding</span>)                │ ?                           │     <span style=\"color: #00af00; text-decoration-color: #00af00\">0</span> (unbuilt) │\n",
       "├──────────────────────────────────────┼─────────────────────────────┼─────────────────┤\n",
       "│ lstm (<span style=\"color: #0087ff; text-decoration-color: #0087ff\">LSTM</span>)                          │ ?                           │     <span style=\"color: #00af00; text-decoration-color: #00af00\">0</span> (unbuilt) │\n",
       "├──────────────────────────────────────┼─────────────────────────────┼─────────────────┤\n",
       "│ dropout (<span style=\"color: #0087ff; text-decoration-color: #0087ff\">Dropout</span>)                    │ ?                           │               <span style=\"color: #00af00; text-decoration-color: #00af00\">0</span> │\n",
       "├──────────────────────────────────────┼─────────────────────────────┼─────────────────┤\n",
       "│ dense (<span style=\"color: #0087ff; text-decoration-color: #0087ff\">Dense</span>)                        │ ?                           │     <span style=\"color: #00af00; text-decoration-color: #00af00\">0</span> (unbuilt) │\n",
       "├──────────────────────────────────────┼─────────────────────────────┼─────────────────┤\n",
       "│ dense_1 (<span style=\"color: #0087ff; text-decoration-color: #0087ff\">Dense</span>)                      │ ?                           │     <span style=\"color: #00af00; text-decoration-color: #00af00\">0</span> (unbuilt) │\n",
       "└──────────────────────────────────────┴─────────────────────────────┴─────────────────┘\n",
       "</pre>\n"
      ],
      "text/plain": [
       "┏━━━━━━━━━━━━━━━━━━━━━━━━━━━━━━━━━━━━━━┳━━━━━━━━━━━━━━━━━━━━━━━━━━━━━┳━━━━━━━━━━━━━━━━━┓\n",
       "┃\u001b[1m \u001b[0m\u001b[1mLayer (type)                        \u001b[0m\u001b[1m \u001b[0m┃\u001b[1m \u001b[0m\u001b[1mOutput Shape               \u001b[0m\u001b[1m \u001b[0m┃\u001b[1m \u001b[0m\u001b[1m        Param #\u001b[0m\u001b[1m \u001b[0m┃\n",
       "┡━━━━━━━━━━━━━━━━━━━━━━━━━━━━━━━━━━━━━━╇━━━━━━━━━━━━━━━━━━━━━━━━━━━━━╇━━━━━━━━━━━━━━━━━┩\n",
       "│ embedding (\u001b[38;5;33mEmbedding\u001b[0m)                │ ?                           │     \u001b[38;5;34m0\u001b[0m (unbuilt) │\n",
       "├──────────────────────────────────────┼─────────────────────────────┼─────────────────┤\n",
       "│ lstm (\u001b[38;5;33mLSTM\u001b[0m)                          │ ?                           │     \u001b[38;5;34m0\u001b[0m (unbuilt) │\n",
       "├──────────────────────────────────────┼─────────────────────────────┼─────────────────┤\n",
       "│ dropout (\u001b[38;5;33mDropout\u001b[0m)                    │ ?                           │               \u001b[38;5;34m0\u001b[0m │\n",
       "├──────────────────────────────────────┼─────────────────────────────┼─────────────────┤\n",
       "│ dense (\u001b[38;5;33mDense\u001b[0m)                        │ ?                           │     \u001b[38;5;34m0\u001b[0m (unbuilt) │\n",
       "├──────────────────────────────────────┼─────────────────────────────┼─────────────────┤\n",
       "│ dense_1 (\u001b[38;5;33mDense\u001b[0m)                      │ ?                           │     \u001b[38;5;34m0\u001b[0m (unbuilt) │\n",
       "└──────────────────────────────────────┴─────────────────────────────┴─────────────────┘\n"
      ]
     },
     "metadata": {},
     "output_type": "display_data"
    },
    {
     "data": {
      "text/html": [
       "<pre style=\"white-space:pre;overflow-x:auto;line-height:normal;font-family:Menlo,'DejaVu Sans Mono',consolas,'Courier New',monospace\"><span style=\"font-weight: bold\"> Total params: </span><span style=\"color: #00af00; text-decoration-color: #00af00\">0</span> (0.00 B)\n",
       "</pre>\n"
      ],
      "text/plain": [
       "\u001b[1m Total params: \u001b[0m\u001b[38;5;34m0\u001b[0m (0.00 B)\n"
      ]
     },
     "metadata": {},
     "output_type": "display_data"
    },
    {
     "data": {
      "text/html": [
       "<pre style=\"white-space:pre;overflow-x:auto;line-height:normal;font-family:Menlo,'DejaVu Sans Mono',consolas,'Courier New',monospace\"><span style=\"font-weight: bold\"> Trainable params: </span><span style=\"color: #00af00; text-decoration-color: #00af00\">0</span> (0.00 B)\n",
       "</pre>\n"
      ],
      "text/plain": [
       "\u001b[1m Trainable params: \u001b[0m\u001b[38;5;34m0\u001b[0m (0.00 B)\n"
      ]
     },
     "metadata": {},
     "output_type": "display_data"
    },
    {
     "data": {
      "text/html": [
       "<pre style=\"white-space:pre;overflow-x:auto;line-height:normal;font-family:Menlo,'DejaVu Sans Mono',consolas,'Courier New',monospace\"><span style=\"font-weight: bold\"> Non-trainable params: </span><span style=\"color: #00af00; text-decoration-color: #00af00\">0</span> (0.00 B)\n",
       "</pre>\n"
      ],
      "text/plain": [
       "\u001b[1m Non-trainable params: \u001b[0m\u001b[38;5;34m0\u001b[0m (0.00 B)\n"
      ]
     },
     "metadata": {},
     "output_type": "display_data"
    }
   ],
   "source": [
    "model = Sequential()\n",
    "model.add(Embedding(input_dim=10000, output_dim=64, input_length=200))\n",
    "model.add(LSTM(64, return_sequences=False))\n",
    "model.add(Dropout(0.5))\n",
    "model.add(Dense(64, activation='relu'))\n",
    "model.add(Dense(len(le.classes_), activation='softmax'))  # Multi-class output\n",
    "\n",
    "model.compile(optimizer='adam', loss='sparse_categorical_crossentropy', metrics=['accuracy'])\n",
    "model.summary()"
   ]
  },
  {
   "cell_type": "markdown",
   "id": "3dfad4e6-6c70-47a0-b05e-d559946342b1",
   "metadata": {},
   "source": [
    "### Train the Model ###"
   ]
  },
  {
   "cell_type": "code",
   "execution_count": 10,
   "id": "d5023e9d-c420-4b78-b486-2286fc88e723",
   "metadata": {},
   "outputs": [
    {
     "name": "stdout",
     "output_type": "stream",
     "text": [
      "Epoch 1/5\n",
      "\u001b[1m669/669\u001b[0m \u001b[32m━━━━━━━━━━━━━━━━━━━━\u001b[0m\u001b[37m\u001b[0m \u001b[1m64s\u001b[0m 91ms/step - accuracy: 0.0201 - loss: 6.8205 - val_accuracy: 0.0252 - val_loss: 6.5310\n",
      "Epoch 2/5\n",
      "\u001b[1m669/669\u001b[0m \u001b[32m━━━━━━━━━━━━━━━━━━━━\u001b[0m\u001b[37m\u001b[0m \u001b[1m82s\u001b[0m 91ms/step - accuracy: 0.0230 - loss: 6.4735 - val_accuracy: 0.0252 - val_loss: 6.5196\n",
      "Epoch 3/5\n",
      "\u001b[1m669/669\u001b[0m \u001b[32m━━━━━━━━━━━━━━━━━━━━\u001b[0m\u001b[37m\u001b[0m \u001b[1m82s\u001b[0m 92ms/step - accuracy: 0.0218 - loss: 6.4590 - val_accuracy: 0.0252 - val_loss: 6.5363\n",
      "Epoch 4/5\n",
      "\u001b[1m669/669\u001b[0m \u001b[32m━━━━━━━━━━━━━━━━━━━━\u001b[0m\u001b[37m\u001b[0m \u001b[1m82s\u001b[0m 92ms/step - accuracy: 0.0241 - loss: 6.4473 - val_accuracy: 0.0252 - val_loss: 6.5365\n",
      "Epoch 5/5\n",
      "\u001b[1m669/669\u001b[0m \u001b[32m━━━━━━━━━━━━━━━━━━━━\u001b[0m\u001b[37m\u001b[0m \u001b[1m82s\u001b[0m 92ms/step - accuracy: 0.0231 - loss: 6.4613 - val_accuracy: 0.0252 - val_loss: 6.5391\n"
     ]
    }
   ],
   "source": [
    "history = model.fit(X_train, y_train, epochs=5, validation_data=(X_test, y_test), batch_size=64)"
   ]
  },
  {
   "cell_type": "markdown",
   "id": "b1f4206f-cbfe-4270-bb2c-617398d16f0e",
   "metadata": {},
   "source": [
    "### Visualize Accuracy and Loss ###"
   ]
  },
  {
   "cell_type": "code",
   "execution_count": 11,
   "id": "333e3ac8-5f98-489e-b8b6-1945f262cb4c",
   "metadata": {},
   "outputs": [
    {
     "data": {
      "image/png": "[encoded data removed]",
      "text/plain": [
       "<Figure size 640x480 with 1 Axes>"
      ]
     },
     "metadata": {},
     "output_type": "display_data"
    },
    {
     "data": {
      "image/png": "[encoded data removed]",
      "text/plain": [
       "<Figure size 640x480 with 1 Axes>"
      ]
     },
     "metadata": {},
     "output_type": "display_data"
    }
   ],
   "source": [
    "plt.plot(history.history['accuracy'], label='Train Accuracy')\n",
    "plt.plot(history.history['val_accuracy'], label='Val Accuracy')\n",
    "plt.title(\"Model Accuracy\")\n",
    "plt.xlabel(\"Epoch\")\n",
    "plt.ylabel(\"Accuracy\")\n",
    "plt.legend()\n",
    "plt.show()\n",
    "\n",
    "plt.plot(history.history['loss'], label='Train Loss')\n",
    "plt.plot(history.history['val_loss'], label='Val Loss')\n",
    "plt.title(\"Model Loss\")\n",
    "plt.xlabel(\"Epoch\")\n",
    "plt.ylabel(\"Loss\")\n",
    "plt.legend()\n",
    "plt.show()"
   ]
  },
  {
   "cell_type": "markdown",
   "id": "ede6fd14-5db4-44d6-b9bb-02947b1c2fa9",
   "metadata": {},
   "source": [
    "### Make Predictions ###"
   ]
  },
  {
   "cell_type": "code",
   "execution_count": 12,
   "id": "df9d3f12-7362-4113-9c80-7ac7a128c42e",
   "metadata": {},
   "outputs": [
    {
     "name": "stdout",
     "output_type": "stream",
     "text": [
      "\u001b[1m1/1\u001b[0m \u001b[32m━━━━━━━━━━━━━━━━━━━━\u001b[0m\u001b[37m\u001b[0m \u001b[1m0s\u001b[0m 198ms/step\n",
      "Recommended drug: Levonorgestrel\n"
     ]
    }
   ],
   "source": [
    "# Predict top recommended drug\n",
    "sample = [\"pain headache I had mild headache and this helped\"]\n",
    "seq = tokenizer.texts_to_sequences(sample)\n",
    "padded_sample = pad_sequences(seq, maxlen=200, padding='post')\n",
    "pred = model.predict(padded_sample)\n",
    "top_drug = le.inverse_transform([np.argmax(pred)])\n",
    "\n",
    "print(\"Recommended drug:\", top_drug[0])"
   ]
  },
  {
   "cell_type": "code",
   "execution_count": null,
   "id": "fb305739-af00-4198-9f24-5da45fb5c2df",
   "metadata": {},
   "outputs": [],
   "source": []
  }
 ],
 "metadata": {
  "kernelspec": {
   "display_name": "Python 3 (ipykernel)",
   "language": "python",
   "name": "python3"
  },
  "language_info": {
   "codemirror_mode": {
    "name": "ipython",
    "version": 3
   },
   "file_extension": ".py",
   "mimetype": "text/x-python",
   "name": "python",
   "nbconvert_exporter": "python",
   "pygments_lexer": "ipython3",
   "version": "3.12.7"
  }
 },
 "nbformat": 4,
 "nbformat_minor": 5
}
