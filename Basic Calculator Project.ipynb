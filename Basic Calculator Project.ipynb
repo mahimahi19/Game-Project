{
 "cells": [
  {
   "cell_type": "markdown",
   "id": "d8fce893-97ca-4af0-be02-0f3a071d18a5",
   "metadata": {},
   "source": [
    "# Module 2 \n",
    "## Basic Calculator Project\n",
    "### Perform arithmetic operations like addition, subtraction, multiplication, and division."
   ]
  },
  {
   "cell_type": "markdown",
   "id": "69a616b2-ad85-47ea-8474-4a53619d88fa",
   "metadata": {},
   "source": [
    "## Introduction ##\n",
    "The Basic Calculator is a beginner-friendly Python program that performs simple arithmetic operations like addition, subtraction, multiplication, and division. It uses user input and conditional logic to display accurate results in a straightforward interface.\n"
   ]
  },
  {
   "cell_type": "markdown",
   "id": "357b03ce-b426-4415-af78-006e6cf1cb1d",
   "metadata": {},
   "source": [
    "## Description ##\n",
    " A Basic Calculator is a simple software application designed to perform fundamental arithmetic operations.\n"
   ]
  },
  {
   "cell_type": "code",
   "execution_count": 3,
   "id": "8187f3e7-b9e5-4666-9ecc-23ad30bf7d2f",
   "metadata": {},
   "outputs": [],
   "source": [
    "def add(x, y):\n",
    "    return x + y\n",
    "\n",
    "def subtract(x, y):\n",
    "    return x - y\n",
    "\n",
    "def multiply(x, y):\n",
    "    return x * y\n",
    "\n",
    "def divide(x, y):\n",
    "    if y == 0:\n",
    "        return \"Cannot divide by zero!\"\n",
    "    return x / y"
   ]
  },
  {
   "cell_type": "code",
   "execution_count": 5,
   "id": "5b9f387a-37de-464a-8dcf-3e3a71d8f2c6",
   "metadata": {},
   "outputs": [
    {
     "name": "stdout",
     "output_type": "stream",
     "text": [
      "Select operation:\n",
      "1. Add\n",
      "2. Subtract\n",
      "3. Multiply\n",
      "4. Divide\n"
     ]
    }
   ],
   "source": [
    "# Get input from user\n",
    "print(\"Select operation:\")\n",
    "print(\"1. Add\")\n",
    "print(\"2. Subtract\")\n",
    "print(\"3. Multiply\")\n",
    "print(\"4. Divide\")"
   ]
  },
  {
   "cell_type": "code",
   "execution_count": 15,
   "id": "c2c42618-a8fc-4776-b244-ed461beb96a8",
   "metadata": {},
   "outputs": [
    {
     "name": "stdin",
     "output_type": "stream",
     "text": [
      "Enter choice (1/2/3/4):  4\n",
      "Enter first number:  2\n",
      "Enter second number:  2\n"
     ]
    }
   ],
   "source": [
    "choice = input(\"Enter choice (1/2/3/4): \")\n",
    "\n",
    "num1 = float(input(\"Enter first number: \"))\n",
    "num2 = float(input(\"Enter second number: \"))"
   ]
  },
  {
   "cell_type": "code",
   "execution_count": 17,
   "id": "7aac03f5-69ef-41b9-b25a-e2689b7c5cd4",
   "metadata": {},
   "outputs": [
    {
     "name": "stdout",
     "output_type": "stream",
     "text": [
      "Result: 1.0\n"
     ]
    }
   ],
   "source": [
    "if choice == '1':\n",
    "    print(\"Result:\", add(num1, num2))\n",
    "elif choice == '2':\n",
    "    print(\"Result:\", subtract(num1, num2))\n",
    "elif choice == '3':\n",
    "    print(\"Result:\", multiply(num1, num2))\n",
    "elif choice == '4':\n",
    "    print(\"Result:\", divide(num1, num2))\n",
    "else:\n",
    "    print(\"Invalid input\")"
   ]
  },
  {
   "cell_type": "code",
   "execution_count": null,
   "id": "4ba9bca4-7eb6-4f00-a4ae-89380ef49a40",
   "metadata": {},
   "outputs": [],
   "source": []
  }
 ],
 "metadata": {
  "kernelspec": {
   "display_name": "Python 3 (ipykernel)",
   "language": "python",
   "name": "python3"
  },
  "language_info": {
   "codemirror_mode": {
    "name": "ipython",
    "version": 3
   },
   "file_extension": ".py",
   "mimetype": "text/x-python",
   "name": "python",
   "nbconvert_exporter": "python",
   "pygments_lexer": "ipython3",
   "version": "3.12.7"
  }
 },
 "nbformat": 4,
 "nbformat_minor": 5
}
